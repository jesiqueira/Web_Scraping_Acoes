{
  "nbformat": 4,
  "nbformat_minor": 0,
  "metadata": {
    "colab": {
      "name": "Web_Scraping_Acoes.ipynb",
      "provenance": [],
      "authorship_tag": "ABX9TyONUB2Yj3+Ku1WPyOl+s3h8",
      "include_colab_link": true
    },
    "kernelspec": {
      "name": "python3",
      "display_name": "Python 3"
    }
  },
  "cells": [
    {
      "cell_type": "markdown",
      "metadata": {
        "id": "view-in-github",
        "colab_type": "text"
      },
      "source": [
        "<a href=\"https://colab.research.google.com/github/jesiqueira/Web_Scraping_Acoes/blob/master/Web_Scraping_Acoes.ipynb\" target=\"_parent\"><img src=\"https://colab.research.google.com/assets/colab-badge.svg\" alt=\"Open In Colab\"/></a>"
      ]
    },
    {
      "cell_type": "markdown",
      "metadata": {
        "id": "KxuvBMs9e5ns"
      },
      "source": [
        "## Criando BeautifulSoup"
      ]
    },
    {
      "cell_type": "code",
      "metadata": {
        "id": "PevVnW7ldcfy"
      },
      "source": [
        "\n",
        "from bs4 import BeautifulSoup\n",
        "from urllib.request import Request, urlopen"
      ],
      "execution_count": null,
      "outputs": []
    },
    {
      "cell_type": "markdown",
      "metadata": {
        "id": "yGD1IpOJfFAZ"
      },
      "source": [
        "## Criando Url para análise"
      ]
    },
    {
      "cell_type": "markdown",
      "metadata": {
        "id": "dVOvX8TffgiD"
      },
      "source": [
        "#### Página de ações"
      ]
    },
    {
      "cell_type": "code",
      "metadata": {
        "id": "bKZKHkE_f30N"
      },
      "source": [
        "url_fundamentos = \"https://fundamentus.com.br/detalhes.php?papel=WHRL4\"\n",
        "hdr = {'User-Agent': 'Mozilla/5.0'}\n",
        "req = Request(url_fundamentos, headers=hdr)\n",
        "response_fundamentos = urlopen(req)\n",
        "html_fundamentos = response_fundamentos.read()"
      ],
      "execution_count": null,
      "outputs": []
    },
    {
      "cell_type": "code",
      "metadata": {
        "id": "bTfIJ51RnbSx"
      },
      "source": [
        "html_fundamentos"
      ],
      "execution_count": null,
      "outputs": []
    },
    {
      "cell_type": "code",
      "metadata": {
        "id": "UWauvELqndAP"
      },
      "source": [
        "soup = BeautifulSoup(html_fundamentos, 'html.parser')"
      ],
      "execution_count": null,
      "outputs": []
    },
    {
      "cell_type": "code",
      "metadata": {
        "id": "4uX__GOsnhIY"
      },
      "source": [
        "soup"
      ],
      "execution_count": null,
      "outputs": []
    },
    {
      "cell_type": "code",
      "metadata": {
        "id": "uNScBU8Rniif"
      },
      "source": [
        "papel = soup.table.find('td', {\"class\":\"data w35\"}).find('span').get_text()"
      ],
      "execution_count": null,
      "outputs": []
    },
    {
      "cell_type": "code",
      "metadata": {
        "colab": {
          "base_uri": "https://localhost:8080/",
          "height": 35
        },
        "id": "__P3YGllpLrz",
        "outputId": "3a719b30-30d4-4c3f-93c6-cc25f8aa15e8"
      },
      "source": [
        "papel"
      ],
      "execution_count": null,
      "outputs": [
        {
          "output_type": "execute_result",
          "data": {
            "application/vnd.google.colaboratory.intrinsic+json": {
              "type": "string"
            },
            "text/plain": [
              "'WHRL4'"
            ]
          },
          "metadata": {
            "tags": []
          },
          "execution_count": 41
        }
      ]
    },
    {
      "cell_type": "code",
      "metadata": {
        "id": "Xtqi56YFswIR"
      },
      "source": [
        "empresa = soup.table.find_all('td')[9].get_text()"
      ],
      "execution_count": null,
      "outputs": []
    },
    {
      "cell_type": "code",
      "metadata": {
        "colab": {
          "base_uri": "https://localhost:8080/",
          "height": 35
        },
        "id": "MQ_QNx1vtl4O",
        "outputId": "3b690798-3b6b-4365-d11a-8ac2ed4433b0"
      },
      "source": [
        "empresa"
      ],
      "execution_count": null,
      "outputs": [
        {
          "output_type": "execute_result",
          "data": {
            "application/vnd.google.colaboratory.intrinsic+json": {
              "type": "string"
            },
            "text/plain": [
              "'WHIRLPOOL S.A. PN'"
            ]
          },
          "metadata": {
            "tags": []
          },
          "execution_count": 59
        }
      ]
    }
  ]
}