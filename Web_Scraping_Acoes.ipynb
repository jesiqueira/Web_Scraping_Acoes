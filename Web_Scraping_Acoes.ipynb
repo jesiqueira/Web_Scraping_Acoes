{
  "nbformat": 4,
  "nbformat_minor": 0,
  "metadata": {
    "colab": {
      "name": "Web_Scraping_Acoes.ipynb",
      "provenance": [],
      "authorship_tag": "ABX9TyOcdPjWm5yXJ7Y8Y09+8btz",
      "include_colab_link": true
    },
    "kernelspec": {
      "name": "python3",
      "display_name": "Python 3"
    }
  },
  "cells": [
    {
      "cell_type": "markdown",
      "metadata": {
        "id": "view-in-github",
        "colab_type": "text"
      },
      "source": [
        "<a href=\"https://colab.research.google.com/github/jesiqueira/Web_Scraping_Acoes/blob/master/Web_Scraping_Acoes.ipynb\" target=\"_parent\"><img src=\"https://colab.research.google.com/assets/colab-badge.svg\" alt=\"Open In Colab\"/></a>"
      ]
    },
    {
      "cell_type": "markdown",
      "metadata": {
        "id": "KxuvBMs9e5ns"
      },
      "source": [
        "## Criando BeautifulSoup"
      ]
    },
    {
      "cell_type": "code",
      "metadata": {
        "id": "PevVnW7ldcfy"
      },
      "source": [
        "\n",
        "from bs4 import BeautifulSoup\n",
        "from urllib.request import Request, urlopen"
      ],
      "execution_count": 29,
      "outputs": []
    },
    {
      "cell_type": "markdown",
      "metadata": {
        "id": "yGD1IpOJfFAZ"
      },
      "source": [
        "## Criando Url para análise"
      ]
    },
    {
      "cell_type": "markdown",
      "metadata": {
        "id": "dVOvX8TffgiD"
      },
      "source": [
        "#### Página de ações"
      ]
    },
    {
      "cell_type": "code",
      "metadata": {
        "id": "bKZKHkE_f30N"
      },
      "source": [
        "url_fundamentos = \"https://fundamentus.com.br/detalhes.php?papel=WHRL4\"\n",
        "hdr = {'User-Agent': 'Mozilla/5.0'}\n",
        "req = Request(url_fundamentos, headers=hdr)\n",
        "response_fundamentos = urlopen(req)\n",
        "html_fundamentos = response_fundamentos.read()"
      ],
      "execution_count": 30,
      "outputs": []
    },
    {
      "cell_type": "code",
      "metadata": {
        "id": "bTfIJ51RnbSx",
        "colab": {
          "base_uri": "https://localhost:8080/"
        },
        "outputId": "590d0151-53b9-40c3-efe3-59bcdf29e76b"
      },
      "source": [
        "html_fundamentos"
      ],
      "execution_count": null,
      "outputs": [
        {
          "output_type": "execute_result",
          "data": {
            "text/plain": [
              "b'<!DOCTYPE HTML PUBLIC \"-//W3C//DTD HTML 4.01//EN\" \"http://www.w3.org/TR/html4/strict.dtd\">\\n<html lang=\"pt-br\">\\n<head>\\n<meta http-equiv=\"Content-Type\" content=\"text/html; charset=iso-8859-1\">\\n<title>FUNDAMENTUS - WHRL4 - Invista consciente - Indicadores Fundamentalistas</title>\\n<link rel=\"stylesheet\" href=\"css/estilo.css\" type=\"text/css\" media=\"screen, projection\">\\n<link rel=\"stylesheet\" href=\"css/print.css\" type=\"text/css\" media=\"print\">\\n<link rel=\"shortcut icon\" href=\"img/fundamentus.ico\" type=\"image/x-icon\">\\n<!--[if lte IE 6]>\\n\\t\\t<link rel=\"stylesheet\" type=\"text/css\" href=\"css/menu_ie6.css\">\\n\\t\\t<script type=\"text/javascript\" src=\"script/ADxMenu.js\"></script>\\n\\t<![endif]-->\\n\\n<script src=\"//ajax.googleapis.com/ajax/libs/mootools/1.11/mootools-yui-compressed.js\" type=\"text/javascript\"></script>\\n\\n<script>\\n  !function(f,b,e,v,n,t,s)\\n  {if(f.fbq)return;n=f.fbq=function(){n.callMethod?\\n  n.callMethod.apply(n,arguments):n.queue.push(arguments)};\\n  if(!f._fbq)f._fbq=n;n.push=n;n.loaded=!0;n.version=\\'2.0\\';\\n  n.queue=[];t=b.createElement(e);t.async=!0;\\n  t.src=v;s=b.getElementsByTagName(e)[0];\\n  s.parentNode.insertBefore(t,s)}(window, document,\\'script\\',\\n  \\'https://connect.facebook.net/en_US/fbevents.js\\');\\n  fbq(\\'init\\', \\'180895865796070\\');\\n  fbq(\\'track\\', \\'PageView\\');\\n</script>\\n<noscript><img height=\"1\" width=\"1\" style=\"display:none\"\\n  src=\"https://www.facebook.com/tr?id=180895865796070&ev=PageView&noscript=1\"\\n/></noscript>\\n <script type=\"text/javascript\" src=\"script/Observer.js\"></script>\\n<script type=\"text/javascript\" src=\"script/Autocompleter.js\"></script>\\n<script defer type=\"text/javascript\" src=\"script/cmplte.php\" language=\"JavaScript\"></script>\\n<script defer src=\"script/tip.js\" type=\"text/javascript\" language=\"JavaScript\"></script>\\n<script type=\"text/javascript\">\\n\\t\\tfunction poApple() { }\\n\\t</script>\\n<script async src=\\'/cdn-cgi/bm/cv/669835187/api.js\\'></script></head>\\n<body class=\"detalhes\">\\n<div class=\"center\">\\n<script>\\t\\tfunction validateForm() {\\t\\t\\tlet form = document.createElement(\\'form\\');\\t\\t\\tform.action = \\'/detalhes.php\\';\\t\\t\\tform.method = \\'GET\\';\\t\\t\\tform.innerHTML = \\'<input name=\"papel\" type=\"hidden\" value=\"\\'+document.forms[0][\"papel\"].value.toUpperCase()+\\'\">\\';\\t\\t\\tdocument.body.append(form);\\t\\t\\tform.submit();\\t\\t\\treturn false;\\t\\t}\\t</script>\\n<div class=\"topo\">\\n<a href=\"index.php\"><img class=\"logo\" src=\"img/logo.gif\" alt=\"FUNDAMENTUS - Invista consciente\"></a>\\n<div class=\"avancada\"><span>Busca por <a href=\"buscaavancada.php\">empresa</a> / <a href=\"fii_buscaavancada.php\">fii</a></span></div>\\n<form class=\"busca\" method=\"get\" action=\"detalhes.php\" onsubmit=\"return validateForm() \">\\n<fieldset>\\n<legend>Procurar por a\\xe7\\xe3o/empresa/fii</legend>\\n<input class=\"texto\" autocomplete=\"off\" id=\"completar\" name=\"papel\" type=\"text\" spellcheck=\"false\"><input type=\"image\" src=\"img/bt_exibir.jpg\" class=\"botao\" value=\"Exibir\"><br>\\n</fieldset>\\n</form>\\n<div class=\"atual\"><p>Voc\\xea est\\xe1 vendo<strong>WHRL4</strong></p></div>\\n<div id=\"containerMenu\">\\n<ul id=\"menu\" class=\"institucional adxm menu\">\\n<li><a class=\"home\" href=\"index.php\">P\\xe1gina inicial</a></li>\\n\\n<li><a class=\"consciente\" href=\"consciente.php\">Investimento consciente</a></li>\\n<li>\\n<a class=\"mais-opcoes\" onClick=\"poApple()\">Mais Op\\xe7\\xf5es</a>\\n<ul>\\n<li><a href=\"fr.php\">Fatos Relevantes</a></li>\\n<li><a href=\"ultimos-resultados.php\">\\xdaltimos Resultados</a></li>\\n<li><a href=\"fii_imoveis.php\">FII - Pesquisar Im\\xf3veis</a></li>\\n</ul>\\n</li>\\n<li><a class=\"contato\" href=\"contato.php\">Entre em contato</a></li>\\n</ul>\\n<ul id=\"menu\" class=\"software adxm menu\">\\n<li><a class=\"detalhes\" href=\"detalhes.php?papel=WHRL4\">Detalhes</a></li>\\n<li>\\n<a class=\"graficos\" onClick=\"poApple()\">Gr\\xe1ficos</a>\\n<ul>\\n<li><a href=\"graficos.php?papel=WHRL4&tipo=1\">Balan\\xe7o patrimonial</a></li>\\n<li><a href=\"graficos.php?papel=WHRL4&tipo=2\">Demonstrativos de resultados</a></li>\\n<li><a href=\"graficos.php?papel=WHRL4&tipo=4\">Fluxo de caixa</a></li>\\n<li><a href=\"graficos.php?papel=WHRL4&tipo=3\">Indicadores fundamentalistas</a></li>\\n</ul>\\n</li>\\n<li>\\n<a class=\"historicos\" onClick=\"poApple()\">Dados Hist\\xf3ricos</a>\\n<ul class=\"provetos\">\\n<li><a class=\"dh\" href=\"acionistas.php?papel=WHRL4\">Acionistas</a></li>\\n<li><a class=\"dh\" href=\"principais_acionistas.php?papel=WHRL4&tipo=1\">Principais Acionistas</a></li>\\n<li><a class=\"dh\" href=\"administradores.php?papel=WHRL4&tipo=1\">Administra\\xe7\\xe3o</a></li>\\n<li><a class=\"dh\" href=\"fatos_relevantes.php?papel=WHRL4\">Fatos Relevantes</a></li>\\n<li><a class=\"dh\" href=\"apresentacoes.php?papel=WHRL4\">Apresenta\\xe7\\xf5es</a></li>\\n<li><a class=\"dh\" href=\"resultados_trimestrais.php?papel=WHRL4&tipo=1\">Resultados Trim.</a></li>\\n<li><a class=\"dh\" href=\"formularios_referencia.php?papel=WHRL4&tipo=1\">Form. Refer\\xeancia</a></li>\\n<li><a class=\"dh\" href=\"balancos.php?papel=WHRL4&tipo=1\">Balan\\xe7os em Excel</a></li>\\n<li><a class=\"dh\" href=\"proventos.php?papel=WHRL4&tipo=2\">Proventos</a></li>\\n</ul>\\n</li>\\n<li><a class=\"cotacoes\" href=\"cotacoes.php?papel=WHRL4\">Hist\\xf3rico de cota\\xe7\\xf5es</a></li>\\n</li>\\n</ul>\\n</div>\\n</div> <div class=\"conteudo clearfix\">\\n\\n<div style=\"float: right; width: 180px;\">\\n<script async src=\"https://pagead2.googlesyndication.com/pagead/js/adsbygoogle.js\"></script>\\n\\n<ins class=\"adsbygoogle\" style=\"display:inline-block;width:160px;height:600px\" data-ad-client=\"ca-pub-3119085269630402\" data-ad-slot=\"8411733769\"></ins>\\n<script>\\n     (adsbygoogle = window.adsbygoogle || []).push({});\\n</script>\\n</div>\\n\\n<table class=\"w728\">\\n<tr>\\n<td class=\"label w15\"><span class=\"help tips\" title=\"C\\xf3digo da a\\xe7\\xe3o\">?</span><span class=\"txt\">Papel</span></td>\\n<td class=\"data w35\"><span class=\"txt\">WHRL4</span></td>\\n<td class=\"label destaque w2\"><span class=\"help tips\" title=\"Cota\\xe7\\xe3o de fechamento da a\\xe7\\xe3o no \\xfaltimo preg\\xe3o\">?</span><span class=\"txt\">Cota\\xe7\\xe3o</span></td>\\n<td class=\"data destaque w3\"><span class=\"txt\">7,84</span></td>\\n</tr>\\n<tr>\\n<td class=\"label\"><span class=\"help tips\" title=\"ON = Ordin\\xe1ria, PN = Preferencial, PNA = Pref. tipo A, etc\">?</span><span class=\"txt\">Tipo</span></td>\\n<td class=\"data\"><span class=\"txt\">PN</span></td>\\n<td class=\"label\"><span class=\"help tips\" title=\"Data do \\xfaltimo preg\\xe3o em  que o ativo foi negociado\">?</span><span class=\"txt\">Data \\xfalt cot</span></td>\\n<td class=\"data\"><span class=\"txt\">10/03/2021</span></td>\\n</tr>\\n<tr>\\n<td class=\"label\"><span class=\"help tips\" title=\"Nome comercial da empresa.\">?</span><span class=\"txt\">Empresa</span></td>\\n<td class=\"data\"><span class=\"txt\">WHIRLPOOL S.A. PN</span></td>\\n<td class=\"label\"><span class=\"help tips\" title=\"Menor cota\\xe7\\xe3o da a\\xe7\\xe3o nos \\xfaltimos 12 meses.\">?</span><span class=\"txt\">Min 52 sem</span></td>\\n<td class=\"data\"><span class=\"txt\">5,11</span></td>\\n</tr>\\n<tr>\\n<td class=\"label\"><span class=\"help tips\" title=\"Classifica\\xe7\\xe3o setorial\">?</span><span class=\"txt\">Setor</span></td>\\n<td class=\"data\"><span class=\"txt\"><a href=\"resultado.php?setor=42\">Utilidades Dom\\xe9sticas</a></span></td>\\n<td class=\"label\"><span class=\"help tips\" title=\"Maior cota\\xe7\\xe3o da a\\xe7\\xe3o nos \\xfaltimos 12 meses\">?</span><span class=\"txt\">Max 52 sem</span></td>\\n<td class=\"data\"><span class=\"txt\">8,23</span></td>\\n</tr>\\n<tr>\\n<td class=\"label\"><span class=\"help tips\" title=\"Classifica\\xe7\\xe3o por segmento de atua\\xe7\\xe3o.\">?</span><span class=\"txt\">Subsetor</span></td>\\n<td class=\"data\"><span class=\"txt\"><a href=\"resultado.php?segmento=79\">Eletrodom\\xe9sticos</a></span></td>\\n<td class=\"label\"><span class=\"help tips\" title=\"Volume m\\xe9dio de negocia\\xe7\\xe3o da a\\xe7\\xe3o nos \\xfaltimos 2 meses (R$)\">?</span><span class=\"txt\">Vol $ m\\xe9d (2m)</span></td>\\n<td class=\"data\"><span class=\"txt\">208.481</span></td>\\n</tr>\\n</table>\\n<table class=\"w728\">\\n<tr>\\n<td class=\"label w2\"><span class=\"help tips\" title=\"Valor de mercado da empresa, calculado multiplicando o pre\\xe7o da a\\xe7\\xe3o pelo n\\xfamero total de a\\xe7\\xf5es.\">?</span><span class=\"txt\">Valor de mercado</span></td>\\n<td class=\"data w3\"><span class=\"txt\">11.781.800.000</span></td>\\n<td class=\"label w3\"><span class=\"help tips\" title=\"Data do \\xfaltimo balan\\xe7o divulgado pela empresa que consta no nosso banco de dados. Todos os indicadores s\\xe3o calculados considerando os \\xfaltimos 12 meses finalizados na data deste balan\\xe7o.\">?</span><span class=\"txt\">\\xdalt balan\\xe7o processado</span></td>\\n<td class=\"data w2\"><span class=\"txt\">30/09/2020</span></td>\\n</tr>\\n<tr>\\n<td class=\"label w2\"><span class=\"help tips\" title=\"Valor da firma (Enterprise Value) \\xe9 calculado somando o valor de mercado da empresa a sua d\\xedvida l\\xedquida.\">?</span><span class=\"txt\">Valor da firma</span></td>\\n<td class=\"data w3\"><span class=\"txt\">10.222.900.000</span></td>\\n<td class=\"label\"><span class=\"help tips\" title=\"N\\xfamero total de a\\xe7\\xf5es, somadas todas as esp\\xe9cies: ON, PN, etc\">?</span><span class=\"txt\">Nro. A\\xe7\\xf5es</span></td>\\n<td class=\"data\"><span class=\"txt\">1.502.790.000</span></td>\\n</tr>\\n</table>\\n<table class=\"w728\">\\n<tr>\\n<td class=\"nivel1\" colspan=\"2\"><span class=\"txt\">Oscila\\xe7\\xf5es</span></td>\\n<td class=\"nivel1\" colspan=\"4\"><span class=\"txt\">Indicadores fundamentalistas</span></td>\\n</tr>\\n<tr>\\n<td class=\"label w1\"><span class=\"txt\">Dia</span></td>\\n<td class=\"data w1\"><span class=\"oscil\"><font color=\"#306EFF\">1,82%</font></span></td>\\n<td class=\"label w2\"><span class=\"help tips\" title=\"Pre\\xe7o da a\\xe7\\xe3o dividido pelo lucro por a\\xe7\\xe3o. O P/L \\xe9 o n\\xfamero de anos que se levaria para reaver o capital aplicado na compra de uma a\\xe7\\xe3o, atrav\\xe9s do recebimento do lucro gerado pela empresa, considerando que esses lucros permane\\xe7am constantes.\">?</span><span class=\"txt\">P/L</span></td>\\n<td class=\"data w2\"><span class=\"txt\">19,33</span></td>\\n<td class=\"label w2\"><span class=\"help tips\" title=\"Lucro por A\\xe7\\xe3o\">?</span><span class=\"txt\">LPA</span></td>\\n<td class=\"data w2\"><span class=\"txt\">0,41</span></td>\\n</tr>\\n<tr>\\n<td class=\"label w1\"><span class=\"txt\">M\\xeas</span></td>\\n<td class=\"data w1\"><span class=\"oscil\"><font color=\"#306EFF\">3,16%</font></span></td>\\n<td class=\"label w2\"><span class=\"help tips\" title=\"Pre\\xe7o da a\\xe7\\xe3o dividido pelo Valor Patrimonial por a\\xe7\\xe3o. Informa quanto o mercado est\\xe1 disposto a pagar sobre o Patrim\\xf4nio L\\xedquido da empresa\">?</span><span class=\"txt\">P/VP</span></td>\\n<td class=\"data w2\"><span class=\"txt\">5,56</span></td>\\n<td class=\"label w2\"><span class=\"help tips\" title=\"Valor Patrimonial por A\\xe7\\xe3o: Valor do Patrim\\xf4nio L\\xedquido dividido pelo n\\xfamero total de a\\xe7\\xf5es.\">?</span><span class=\"txt\">VPA</span></td>\\n<td class=\"data w2\"><span class=\"txt\">1,41</span></td>\\n</tr>\\n<tr>\\n<td class=\"label w1\"><span class=\"txt\">30 dias</span></td>\\n<td class=\"data w1\"><span class=\"oscil\"><font color=\"#F75D59\">-0,88%</font></span></td>\\n<td class=\"label w2\"><span class=\"help tips\" title=\"Pre\\xe7o da a\\xe7\\xe3o dividido pelo EBIT por a\\xe7\\xe3o. EBIT \\xe9 uma aproxima\\xe7\\xe3o do resultado operacional da empresa. O EBIT \\xe9 calculado atrav\\xe9s da seguinte f\\xf3rmula: Lucro Bruto - Despesas com Vendas - Despesas Administrativas \">?</span><span class=\"txt\">P/EBIT</span></td>\\n<td class=\"data w2\"><span class=\"txt\">\\n15,66</span></td>\\n<td class=\"label\"><span class=\"help tips\" title=\"Lucro Bruto dividido pela Receita L\\xedquida: Indica a porcentagem de cada R$1 de venda que sobrou ap\\xf3s o custo dos produtos/servi\\xe7os vendidos\">?</span><span class=\"txt\">Marg. Bruta</span></td>\\n<td class=\"data\"><span class=\"txt\">\\n18,6%</span></td>\\n</tr>\\n<tr>\\n<td class=\"label w1\"><span class=\"txt\">12 meses</span></td>\\n<td class=\"data w1\"><span class=\"oscil\"><font color=\"#306EFF\">6,08%</font></span></td>\\n<td class=\"label\"><span class=\"help tips\" title=\"Price Sales Ratio: Pre\\xe7o da a\\xe7\\xe3o dividido pela Receita L\\xedquida por a\\xe7\\xe3o\">?</span><span class=\"txt\">PSR</span></td>\\n<td class=\"data\"><span class=\"txt\">\\n1,32</span></td>\\n<td class=\"label\"><span class=\"help tips\" title=\"EBIT dividido pela Receita L\\xedquida: Indica a porcentagem de cada R$1 de venda que sobrou ap\\xf3s o pagamento dos custos dos produtos/servi\\xe7os vendidos, das despesas com vendas, gerais e administrativas\">?</span><span class=\"txt\">Marg. EBIT</span></td>\\n<td class=\"data\"><span class=\"txt\">\\n8,4%</span></td>\\n</tr>\\n<tr>\\n<td class=\"label w1\"><span class=\"txt\">2021</span></td>\\n<td class=\"data w1\"><span class=\"oscil\"><font color=\"#F75D59\">-3,92%</font></span></td>\\n<td class=\"label w2\"><span class=\"help tips\" title=\"Pre\\xe7o da a\\xe7\\xe3o dividido pelos Ativos totais por a\\xe7\\xe3o.\">?</span><span class=\"txt\">P/Ativos</span></td>\\n<td class=\"data w2\"><span class=\"txt\">\\n1,73</span></td>\\n<td class=\"label\"><span class=\"help tips\" title=\"Lucro L\\xedquido dividido pela Receita L\\xedquida\">?</span><span class=\"txt\">Marg. L\\xedquida</span></td>\\n<td class=\"data\"><span class=\"txt\">\\n6,8%</span></td>\\n</tr>\\n<tr>\\n<td class=\"label w1\"><span class=\"txt\">2020</span></td>\\n<td class=\"data w1\"><span class=\"oscil\"><font color=\"#F75D59\">-7,47%</font></span></td>\\n<td class=\"label w2\"><span class=\"help tips\" title=\"Pre\\xe7o da a\\xe7\\xe3o dividido pelo capital de giro por a\\xe7\\xe3o. Capital de giro \\xe9 o Ativo Circulante menos Passivo Circulante\">?</span><span class=\"txt\">P/Cap. Giro</span></td>\\n<td class=\"data w2\"><span class=\"txt\">\\n12,08</span></td>\\n<td class=\"label\"><span class=\"help tips\" title=\"EBIT dividido por Ativos totais. EBIT \\xe9 uma aproxima\\xe7\\xe3o do resultado operacional da empresa. O EBIT \\xe9 calculado atrav\\xe9s da seguinte f\\xf3rmula: Lucro Bruto - Despesas com Vendas - Despesas Administrativas\">?</span><span class=\"txt\">EBIT / Ativo</span></td>\\n<td class=\"data\"><span class=\"txt\">11,0%</span></td>\\n</tr>\\n<tr>\\n<td class=\"label w1\"><span class=\"txt\">2019</span></td>\\n<td class=\"data w1\"><span class=\"oscil\"><font color=\"#306EFF\">119,02%</font></span></td>\\n<td class=\"label w2\"><span class=\"help tips\" title=\"Pre\\xe7o da a\\xe7\\xe3o dividido pelos Ativos Circulantes L\\xedquidos por a\\xe7\\xe3o. Ativo Circ. L\\xedq. \\xe9 obtido subtraindo os ativos circulantes pelas d\\xedvidas de curto e longo prazo, ou seja, ap\\xf3s o pagamento de todas as d\\xedvidas, quanto sobraria dos ativos mais l\\xedquidos da empresa (caixa, estoque, etc)\">?</span><span class=\"txt\">P/Ativ Circ Liq</span></td>\\n<td class=\"data w2\"><span class=\"txt\">\\n20,69</span></td>\\n<td class=\"label\"><span class=\"help tips\" title=\"Retorno sobre o Capital Investido: Calculado dividindo-se o EBIT por (Ativos - Fornecedores - Caixa). Informa o retorno que a empresa consegue sobre o capital total aplicado. EBIT \\xe9 uma aproxima\\xe7\\xe3o do resultado operacional da empresa. O EBIT \\xe9 calculado atrav\\xe9s da seguinte f\\xf3rmula: Lucro Bruto - Despesas com Vendas - Despesas Administrativas\">?</span><span class=\"txt\">ROIC</span></td>\\n<td class=\"data\"><span class=\"txt\">\\n37,0%</span></td>\\n</tr>\\n<tr>\\n<td class=\"label w1\"><span class=\"txt\">2018</span></td>\\n<td class=\"data w1\"><span class=\"oscil\"><font color=\"#306EFF\">5,65%</font></span></td>\\n<td class=\"label\"><span class=\"help tips\" title=\"Dividend Yield: Dividendo pago por a\\xe7\\xe3o dividido pelo pre\\xe7o da a\\xe7\\xe3o. \\xc9 o rendimento gerado para o dono da a\\xe7\\xe3o pelo pagamento de dividendos.\">?</span><span class=\"txt\">Div. Yield</span></td>\\n<td class=\"data\"><span class=\"txt\">17,0%</span></td>\\n<td class=\"label\"><span class=\"help tips\" title=\"Retorno sobre o Patrim\\xf4nio L\\xedquido: Lucro l\\xedquido dividido pelo Patrim\\xf4nio L\\xedquido\">?</span><span class=\"txt\">ROE</span></td>\\n<td class=\"data\"><span class=\"txt\">\\n28,8%</span></td>\\n</tr>\\n<tr>\\n<td class=\"label w1\"><span class=\"txt\">2017</span></td>\\n<td class=\"data w1\"><span class=\"oscil\"><font color=\"#306EFF\">77,20%</font></span></td>\\n<td class=\"label\"><span class=\"help tips\" title=\"Valor da Firma (Enterprise Value dividido pelo EBITDA. EBITDA \\xe9 calculado atrav\\xe9s da seguinte f\\xf3rmula: Lucro Bruto - Despesas com Vendas - Despesas Administrativas + Deprecia\\xe7\\xe3o e Amortiza\\xe7\\xe3o\">?</span><span class=\"txt\">EV / EBITDA</span></td>\\n<td class=\"data\"><span class=\"txt\">\\n10,88</span></td>\\n<td class=\"label\"><span class=\"help tips\" title=\"Ativo Circulante dividido pelo Passivo Circulante: Reflete a capacidade de pagamento da empresa no curto prazo.\">?</span><span class=\"txt\">Liquidez Corr</span></td>\\n<td class=\"data\"><span class=\"txt\">\\n1,23</span></td>\\n</tr>\\n<tr>\\n<td class=\"label w1\"><span class=\"txt\">2016</span></td>\\n<td class=\"data w1\"><span class=\"oscil\"><font color=\"#306EFF\">32,98%</font></span></td>\\n<td class=\"label\"><span class=\"help tips\" title=\"Valor da Firma (Enterprise Value dividido pelo EBIT. EBIT \\xe9 uma aproxima\\xe7\\xe3o do resultado operacional da empresa. O EBIT \\xe9 calculado atrav\\xe9s da seguinte f\\xf3rmula: Lucro Bruto - Despesas com Vendas - Despesas Administrativas\">?</span><span class=\"txt\">EV / EBIT</span></td>\\n<td class=\"data\"><span class=\"txt\">\\n13,58</span></td>\\n<td class=\"label\"><span class=\"help tips\" title=\"D\\xedvida Bruta total (D\\xedvida+Deb\\xeantures) dividido pelo Patrim\\xf4nio L\\xedquido\">?</span><span class=\"txt\">Div Br/ Patrim</span></td>\\n<td class=\"data\"><span class=\"txt\">\\n0,22</span></td>\\n</tr>\\n<tr>\\n<td class=\"label w1\"><span class=\"txt\"></span></td>\\n<td class=\"data w1\"><span class=\"oscil\"></span></td>\\n<td class=\"label\"><span class=\"help tips\" title=\"Crescimento da Receita L\\xedquida nos \\xfaltimos 5 anos\">?</span><span class=\"txt\">Cres. Rec (5a)</span></td>\\n<td class=\"data\"><span class=\"txt\">\\n-4,9%</span></td>\\n<td class=\"label\"><span class=\"help tips\" title=\"Receita L\\xedquida dividido por Ativos Totais. Indica a efici\\xeancia com a qual a empresa usa seus ativos para gerar vendas\">?</span><span class=\"txt\">Giro Ativos</span></td>\\n<td class=\"data\"><span class=\"txt\">\\n1,31</span></td>\\n</tr>\\n</table>\\n<table class=\"w728\">\\n<tr>\\n<td class=\"nivel1\" colspan=\"4\"><span class=\"txt\">Dados Balan\\xe7o Patrimonial</span></td>\\n</tr>\\n<tr>\\n<td class=\"label w2\"><span class=\"help tips\" title=\"Todos os bens, direitos e valores a receber de uma entidade\">?</span><span class=\"txt\">Ativo</span></td>\\n<td class=\"data w3\"><span class=\"txt\">6.826.310.000</span></td>\\n<td class=\"label w2\"><span class=\"help tips\" title=\"D\\xedvida Bruta \\xe9 obtida somando-se as d\\xedvidas de curto e longo prazo mais as deb\\xeantures de curto e longo prazo.\">?</span><span class=\"txt\">D\\xedv. Bruta</span></td>\\n<td class=\"data w3\"><span class=\"txt\">463.846.000</span></td>\\n</tr>\\n<tr>\\n<td class=\"label\"><span class=\"help tips\" title=\"Contas que representam bens numer\\xe1rios (Dinheiro)\">?</span><span class=\"txt\">Disponibilidades</span></td>\\n<td class=\"data\"><span class=\"txt\">2.022.840.000</span></td>\\n<td class=\"label\"><span class=\"help tips\" title=\"D\\xedvida Bruta menos Disponibilidades. Se este valor \\xe9 negativo, significa que a empresa possui caixa l\\xedquido positivo.\">?</span><span class=\"txt\">D\\xedv. L\\xedquida</span></td>\\n<td class=\"data\"><span class=\"txt\">-1.558.990.000</span></td>\\n</tr>\\n<tr>\\n<td class=\"label\"><span class=\"help tips\" title=\"Bens ou direitos que podem ser convertido em dinheiro em curto prazo\">?</span><span class=\"txt\">Ativo Circulante</span></td>\\n<td class=\"data\"><span class=\"txt\">5.276.430.000</span></td>\\n<td class=\"label\"><span class=\"help tips\" title=\"O patrim\\xf4nio l\\xedquido representa os valores que os s\\xf3cios ou acionistas t\\xeam na empresa em um determinado momento. No balan\\xe7o patrimonial, a diferen\\xe7a entre o valor dos ativos e dos passivos e resultado de exerc\\xedcios futuros representa o PL (Patrim\\xf4nio L\\xedquido), que \\xe9 o valor cont\\xe1bil devido pela pessoa jur\\xeddica aos s\\xf3cios ou acionistas.\">?</span><span class=\"txt\">Patrim. L\\xedq</span></td>\\n<td class=\"data\"><span class=\"txt\">2.118.000.000</span></td>\\n</tr>\\n</table>\\n<table class=\"w728\">\\n<tr>\\n<td class=\"nivel1\" colspan=\"4\"><span class=\"txt\">Dados demonstrativos de resultados</span></td>\\n</tr>\\n<tr>\\n<td class=\"nivel2 w5\" colspan=\"2\"><span class=\"txt\">\\xdaltimos 12 meses</span></td>\\n<td class=\"nivel2 w5\" colspan=\"2\"><span class=\"txt\">\\xdaltimos 3 meses</span></td>\\n</tr>\\n<tr>\\n<td class=\"label w2\"><span class=\"help tips\" title=\"Receita L\\xedquida \\xe9 a soma de todas as vendas da empresa em determinado per\\xedodo deduzido de devolu\\xe7\\xf5es, descontos e alguns impostos.\">?</span><span class=\"txt\">Receita L\\xedquida</span></td>\\n<td class=\"data w3\"><span class=\"txt\">8.922.900.000</span></td>\\n<td class=\"label w2\"><span class=\"help tips\" title=\"Receita L\\xedquida \\xe9 a soma de todas as vendas da empresa em determinado per\\xedodo deduzido de devolu\\xe7\\xf5es, descontos e alguns impostos.\">?</span><span class=\"txt\">Receita L\\xedquida</span></td>\\n<td class=\"data w3\"><span class=\"txt\">2.626.900.000</span></td>\\n</tr>\\n<tr>\\n<td class=\"label\"><span class=\"help tips\" title=\"Earnings Before Interest and Taxes - Lucro antes dos impostos e juros: Uma aproxima\\xe7\\xe3o do lucro operacional da empresa. F\\xf3rmula utilizada: Lucro bruto - desp de vendas - desp administrativas\">?</span><span class=\"txt\">EBIT</span></td>\\n<td class=\"data\"><span class=\"txt\">752.535.000</span></td>\\n<td class=\"label\"><span class=\"help tips\" title=\"Earnings Before Interest and Taxes - Lucro antes dos impostos e juros: Uma aproxima\\xe7\\xe3o do lucro operacional da empresa. F\\xf3rmula utilizada: Lucro bruto - desp de vendas - desp administrativas\">?</span><span class=\"txt\">EBIT</span></td>\\n<td class=\"data\"><span class=\"txt\">380.868.000</span></td>\\n</tr>\\n<tr>\\n<td class=\"label\"><span class=\"help tips\" title=\"O que sobra das vendas ap\\xf3s o todas as despesas.\">?</span><span class=\"txt\">Lucro L\\xedquido</span></td>\\n<td class=\"data\"><span class=\"txt\">609.403.000</span></td>\\n<td class=\"label\"><span class=\"help tips\" title=\"O que sobra das vendas ap\\xf3s o todas as despesas.\">?</span><span class=\"txt\">Lucro L\\xedquido</span></td>\\n<td class=\"data\"><span class=\"txt\">278.829.000</span></td>\\n</tr>\\n</table>\\n<BR>\\n<script async src=\"https://pagead2.googlesyndication.com/pagead/js/adsbygoogle.js\"></script>\\n\\n<ins class=\"adsbygoogle\" style=\"display:inline-block;width:728px;height:90px\" data-ad-client=\"ca-pub-3119085269630402\" data-ad-slot=\"1513786315\"></ins>\\n<script>\\n     (adsbygoogle = window.adsbygoogle || []).push({});\\n</script>\\n<script>\\nwindow.onload = function() {\\n//  var req = new XMLHttpRequest();\\n//  req.open(\\'POST\\', \\'pv.php\\', true);\\n//  req.send(null);\\n};\\n</script>\\n</div>\\n</div>\\n<div class=\"rodape\">\\n<div class=\"center\">\\n<ul>\\n<li><strong>Menu institucional:</strong></li>\\n<li><a class=\"home\" href=\"index.php\">P\\xe1gina inicial</a>|</li>\\n<li><a class=\"conheca\" href=\"conheca.php\">Conhe\\xe7a o site</a>|</li>\\n<li><a class=\"consciente\" href=\"consciente.php\">Investimento Consciente</a>|</li>\\n<li><a class=\"contato\" href=\"contato.php\">Entre em contato</a>|</li>\\n<li><a class=\"ultimos-resultados\" href=\"ultimos-resultados.php\">\\xdaltimos Resultados</a></li>\\n</ul>\\n<ul>\\n<li><strong>Menu software: </strong></li>\\n<li><a class=\"graficos\" href=\"graficos.php?tipo=1\">Gr\\xe1ficos</a>|</li>\\n<li><a class=\"detalhes\" href=\"detalhes.php\">Detalhes</a>|</li>\\n<li><a class=\"cotacoes\" href=\"cotacoes.php\">Hist\\xf3rico de cota\\xe7\\xf5es</a>|</li>\\n<li><a class=\"acionistas\" href=\"acionistas.php\">Acionistas</a>|</li>\\n<li><a class=\"principais-acionistas\" href=\"principais_acionistas.php\">Principais Acionistas</a>|</li>\\n<li><a class=\"administracao\" href=\"administradores.php\">Administra\\xe7\\xe3o</a>|</li>\\n<li><a class=\"fatos-relevantes\" href=\"fatos_relevantes.php\">Fatos Relevantes</a>|</li>\\n<li><a class=\"apresentacoes\" href=\"apresentacoes.php\">Apresenta\\xe7\\xf5es</a>|</li>\\n<li><a class=\"proventos\" href=\"proventos.php\">Proventos</a>|</li>\\n<li><a class=\"historicos\" href=\"balancos.php\">Balan\\xe7os Hist\\xf3ricos</a></li>\\n</ul>\\n</div>\\n</div>\\n<script type=\"text/javascript\">\\n    var gaJsHost = ((\"https:\" == document.location.protocol) ? \"https://ssl.\" : \"http://www.\");\\n    document.write(unescape(\"%3Cscript src=\\'\" + gaJsHost + \"google-analytics.com/ga.js\\' type=\\'text/javascript\\'%3E%3C/script%3E\"));\\n    </script>\\n<script type=\"text/javascript\">\\n    var pageTracker = _gat._getTracker(\"UA-3584125-1\");\\n    pageTracker._initData();\\n    pageTracker._trackPageview();\\n  </script>\\n<script type=\"text/javascript\" src=\"script/pvt.php\" language=\"JavaScript\" async></script>\\n<script type=\"text/javascript\">(function(){window[\\'__CF$cv$params\\']={r:\\'62e093993cbcaef1\\',m:\\'c8b79c94b3c600263310066bb99720af1633b949-1615421603-1800-AVq2475gNRDyFMP+sag+fkc2zEPvhtlsqOKlXe5nu0paL0fT6uXvF1hG6fIv7g8UyIBYhZLlQCEgKJTcYb4jQJPafDWZkOfLw9Vp84u7minSSm2UXk0erc5WpZTP5uudSOc888LRhKO04CsHtRv4wwE=\\',s:[0x76d6ab5da3,0x1cbe65db07],}})();</script></body>\\n</html>\\n'"
            ]
          },
          "metadata": {
            "tags": []
          },
          "execution_count": 23
        }
      ]
    },
    {
      "cell_type": "code",
      "metadata": {
        "id": "UWauvELqndAP"
      },
      "source": [
        "soup = BeautifulSoup(html_fundamentos, 'html.parser')"
      ],
      "execution_count": 31,
      "outputs": []
    },
    {
      "cell_type": "code",
      "metadata": {
        "id": "4uX__GOsnhIY"
      },
      "source": [
        "soup"
      ],
      "execution_count": null,
      "outputs": []
    },
    {
      "cell_type": "code",
      "metadata": {
        "id": "uNScBU8Rniif"
      },
      "source": [
        "papel = soup.table.find('td', {\"class\":\"data w35\"}).find('span').get_text()"
      ],
      "execution_count": 32,
      "outputs": []
    },
    {
      "cell_type": "code",
      "metadata": {
        "colab": {
          "base_uri": "https://localhost:8080/",
          "height": 35
        },
        "id": "__P3YGllpLrz",
        "outputId": "ded69fec-4e8e-42a5-d081-bac644330083"
      },
      "source": [
        "papel"
      ],
      "execution_count": 33,
      "outputs": [
        {
          "output_type": "execute_result",
          "data": {
            "application/vnd.google.colaboratory.intrinsic+json": {
              "type": "string"
            },
            "text/plain": [
              "'WHRL4'"
            ]
          },
          "metadata": {
            "tags": []
          },
          "execution_count": 33
        }
      ]
    },
    {
      "cell_type": "code",
      "metadata": {
        "id": "Xtqi56YFswIR"
      },
      "source": [
        "empresa = soup.table.find_all('td')[9].get_text()"
      ],
      "execution_count": 34,
      "outputs": []
    },
    {
      "cell_type": "code",
      "metadata": {
        "id": "MQ_QNx1vtl4O"
      },
      "source": [
        "empresa"
      ],
      "execution_count": null,
      "outputs": []
    },
    {
      "cell_type": "markdown",
      "metadata": {
        "id": "6VQfuzaEAa-g"
      },
      "source": [
        "### Cotação"
      ]
    },
    {
      "cell_type": "code",
      "metadata": {
        "colab": {
          "base_uri": "https://localhost:8080/"
        },
        "id": "Xz_K9ATgAf7p",
        "outputId": "79444b56-d218-443a-ac53-652292049399"
      },
      "source": [
        "cotacao = float(soup.table.find('td', {'class':'data destaque w3'}).find('span').get_text().replace(',','.'))\n",
        "cotacao"
      ],
      "execution_count": 36,
      "outputs": [
        {
          "output_type": "execute_result",
          "data": {
            "text/plain": [
              "7.79"
            ]
          },
          "metadata": {
            "tags": []
          },
          "execution_count": 36
        }
      ]
    },
    {
      "cell_type": "markdown",
      "metadata": {
        "id": "hORAaKX0B_FJ"
      },
      "source": [
        "###***Data Utilma pregão que foi atualizado***\n"
      ]
    },
    {
      "cell_type": "code",
      "metadata": {
        "colab": {
          "base_uri": "https://localhost:8080/",
          "height": 35
        },
        "id": "-p7geP70CGOJ",
        "outputId": "6ac04c15-a511-4c5b-e507-d4d109da646b"
      },
      "source": [
        "data_ultimo_atualizacao = soup.table.find_all('td', {'class', 'data'})[3].get_text()\n",
        "data_ultimo_atualizacao"
      ],
      "execution_count": 37,
      "outputs": [
        {
          "output_type": "execute_result",
          "data": {
            "application/vnd.google.colaboratory.intrinsic+json": {
              "type": "string"
            },
            "text/plain": [
              "'12/03/2021'"
            ]
          },
          "metadata": {
            "tags": []
          },
          "execution_count": 37
        }
      ]
    },
    {
      "cell_type": "markdown",
      "metadata": {
        "id": "cfmH-e2iFF8b"
      },
      "source": [
        "###***Setor / subsetor***\n"
      ]
    },
    {
      "cell_type": "code",
      "metadata": {
        "id": "Gy8W_NufFMaL"
      },
      "source": [
        "setor = soup.table.find_all('td', {'class', 'data'})[6].get_text()\n",
        "subsetor = soup.table.find_all('td', {'class', 'data'})[8].get_text()"
      ],
      "execution_count": 38,
      "outputs": []
    },
    {
      "cell_type": "code",
      "metadata": {
        "colab": {
          "base_uri": "https://localhost:8080/",
          "height": 35
        },
        "id": "BcuTgPCjMESE",
        "outputId": "ecb25b23-48f9-481a-ba52-55a6352dfba0"
      },
      "source": [
        "setor"
      ],
      "execution_count": 39,
      "outputs": [
        {
          "output_type": "execute_result",
          "data": {
            "application/vnd.google.colaboratory.intrinsic+json": {
              "type": "string"
            },
            "text/plain": [
              "'Utilidades Domésticas'"
            ]
          },
          "metadata": {
            "tags": []
          },
          "execution_count": 39
        }
      ]
    },
    {
      "cell_type": "code",
      "metadata": {
        "colab": {
          "base_uri": "https://localhost:8080/",
          "height": 35
        },
        "id": "dOExFwBmMFe_",
        "outputId": "329ce462-f81f-415c-8f49-06a00cbf9957"
      },
      "source": [
        "subsetor"
      ],
      "execution_count": 40,
      "outputs": [
        {
          "output_type": "execute_result",
          "data": {
            "application/vnd.google.colaboratory.intrinsic+json": {
              "type": "string"
            },
            "text/plain": [
              "'Eletrodomésticos'"
            ]
          },
          "metadata": {
            "tags": []
          },
          "execution_count": 40
        }
      ]
    },
    {
      "cell_type": "markdown",
      "metadata": {
        "id": "EgEH4lsgMrN5"
      },
      "source": [
        "# ***Indicadores Fundamentalista***\n"
      ]
    },
    {
      "cell_type": "markdown",
      "metadata": {
        "id": "J2roh2J5NOeN"
      },
      "source": [
        "***P/L*** --> Número de anos que levarias para recuperar o capital investido na compra de uma ação, atraves do lucro recebido gerado por essa empresa, desde que o lucro continue constante"
      ]
    },
    {
      "cell_type": "code",
      "metadata": {
        "colab": {
          "base_uri": "https://localhost:8080/"
        },
        "id": "pOH-07XJN29v",
        "outputId": "b60becb2-769b-47d5-ba5e-fb172e068157"
      },
      "source": [
        "pl = float(soup.table.find_next_sibling().find_next_sibling().find_all('td', {'class', 'data w2'})[0].get_text().replace(',','.'))\n",
        "pl"
      ],
      "execution_count": 42,
      "outputs": [
        {
          "output_type": "execute_result",
          "data": {
            "text/plain": [
              "19.21"
            ]
          },
          "metadata": {
            "tags": []
          },
          "execution_count": 42
        }
      ]
    },
    {
      "cell_type": "markdown",
      "metadata": {
        "id": "d-t6lK_xWwPp"
      },
      "source": [
        "***Lucro por ação***"
      ]
    },
    {
      "cell_type": "code",
      "metadata": {
        "colab": {
          "base_uri": "https://localhost:8080/",
          "height": 35
        },
        "id": "bgfz5JOUTTjZ",
        "outputId": "cf0ce2cf-94f4-4191-e7d1-c5bdcc70a042"
      },
      "source": [
        "lpa = soup.table.find_next_sibling().find_next_sibling().find_all('td', {'class', 'data w2'})[1].get_text()\n",
        "lpa"
      ],
      "execution_count": null,
      "outputs": [
        {
          "output_type": "execute_result",
          "data": {
            "application/vnd.google.colaboratory.intrinsic+json": {
              "type": "string"
            },
            "text/plain": [
              "'0,41'"
            ]
          },
          "metadata": {
            "tags": []
          },
          "execution_count": 17
        }
      ]
    },
    {
      "cell_type": "markdown",
      "metadata": {
        "id": "gk8VcW5AW8U1"
      },
      "source": [
        "***P/VP*** -> Informa quanto o mercado está disposto a pagar sobre o patrimônio liquido da empresa"
      ]
    },
    {
      "cell_type": "code",
      "metadata": {
        "colab": {
          "base_uri": "https://localhost:8080/",
          "height": 35
        },
        "id": "HtKWkqk8YA5u",
        "outputId": "6bec8dfc-d843-4649-f659-b12751884a6e"
      },
      "source": [
        "pvp = soup.table.find_next_sibling().find_next_sibling().find_all('td', {'class', 'data w2'})[2].get_text()\n",
        "pvp"
      ],
      "execution_count": null,
      "outputs": [
        {
          "output_type": "execute_result",
          "data": {
            "application/vnd.google.colaboratory.intrinsic+json": {
              "type": "string"
            },
            "text/plain": [
              "'5,53'"
            ]
          },
          "metadata": {
            "tags": []
          },
          "execution_count": 18
        }
      ]
    },
    {
      "cell_type": "markdown",
      "metadata": {
        "id": "1dBt6-7lb5uG"
      },
      "source": [
        "***VPA*** -> Valor patrimonial por ação, número do patrimônio liquido dividido pelo número total de ações\n"
      ]
    },
    {
      "cell_type": "code",
      "metadata": {
        "colab": {
          "base_uri": "https://localhost:8080/"
        },
        "id": "KVFW4TQOYD7C",
        "outputId": "6560f3fc-f587-4bc6-fdb5-8aa2c298fb4e"
      },
      "source": [
        "vpa = float(soup.table.find_next_sibling().find_next_sibling().find_all('td', {'class', 'data w2'})[3].get_text().replace(',','.'))\n",
        "vpa"
      ],
      "execution_count": 51,
      "outputs": [
        {
          "output_type": "execute_result",
          "data": {
            "text/plain": [
              "2.97"
            ]
          },
          "metadata": {
            "tags": []
          },
          "execution_count": 51
        }
      ]
    },
    {
      "cell_type": "markdown",
      "metadata": {
        "id": "zGPwYwQ7d7MR"
      },
      "source": [
        "***Ebita*** -> é o lucro anes dos impostos e Despesas Financeiras. É uma boa aproximação do lucro operacional da empresa"
      ]
    },
    {
      "cell_type": "code",
      "metadata": {
        "colab": {
          "base_uri": "https://localhost:8080/",
          "height": 35
        },
        "id": "LJy5bzRFeYxb",
        "outputId": "2dd4bd42-2611-4357-a675-c5b07f0f2a16"
      },
      "source": [
        "ebita = soup.table.find_next_sibling().find_next_sibling().find_all('td', {'class', 'data w2'})[4].get_text().replace('\\n', '')\n",
        "ebita"
      ],
      "execution_count": null,
      "outputs": [
        {
          "output_type": "execute_result",
          "data": {
            "application/vnd.google.colaboratory.intrinsic+json": {
              "type": "string"
            },
            "text/plain": [
              "'15,58'"
            ]
          },
          "metadata": {
            "tags": []
          },
          "execution_count": 20
        }
      ]
    },
    {
      "cell_type": "markdown",
      "metadata": {
        "id": "Y-8erQ-LpPPk"
      },
      "source": [
        "***Margin Bruta*** --> lucro bruto / receita bruta. Indica a porcetaem de casa R$1 de venda que sobrou após o custo dos produtos/serviços vendidos\n"
      ]
    },
    {
      "cell_type": "code",
      "metadata": {
        "colab": {
          "base_uri": "https://localhost:8080/",
          "height": 35
        },
        "id": "oq8Zga0wpqve",
        "outputId": "35e3373b-0879-406f-e06f-9a4b92378fce"
      },
      "source": [
        "mag_bruta = soup.table.find_next_sibling().find_next_sibling().find_all('td', {'class', 'data'})[8].get_text().replace('\\n', '')\n",
        "mag_bruta"
      ],
      "execution_count": null,
      "outputs": [
        {
          "output_type": "execute_result",
          "data": {
            "application/vnd.google.colaboratory.intrinsic+json": {
              "type": "string"
            },
            "text/plain": [
              "'18,6%'"
            ]
          },
          "metadata": {
            "tags": []
          },
          "execution_count": 21
        }
      ]
    },
    {
      "cell_type": "markdown",
      "metadata": {
        "id": "SsXs0AF8sSyl"
      },
      "source": [
        "***Dividend Yield*** -> Dividendo pago por ações, é o rendimento pago ao dono da ação pelo pagamento de dividendo"
      ]
    },
    {
      "cell_type": "code",
      "metadata": {
        "colab": {
          "base_uri": "https://localhost:8080/",
          "height": 35
        },
        "id": "Sy4Z8BlLszLv",
        "outputId": "b0973347-d043-473a-b534-34b32ec7652a"
      },
      "source": [
        "dy = soup.table.find_next_sibling().find_next_sibling().find_all('td', {'class', 'data'})[22].get_text()\n",
        "dy"
      ],
      "execution_count": 57,
      "outputs": [
        {
          "output_type": "execute_result",
          "data": {
            "application/vnd.google.colaboratory.intrinsic+json": {
              "type": "string"
            },
            "text/plain": [
              "'8,1%'"
            ]
          },
          "metadata": {
            "tags": []
          },
          "execution_count": 57
        }
      ]
    },
    {
      "cell_type": "markdown",
      "metadata": {
        "id": "W2ndOFndIPis"
      },
      "source": [
        "# Carregar Empresas da Bolsa"
      ]
    },
    {
      "cell_type": "code",
      "metadata": {
        "id": "i_HmukxTO37E"
      },
      "source": [
        "# Carregar BeautifulSoup e urllib\n",
        "from bs4 import BeautifulSoup\n",
        "from urllib.request import Request, urlopen"
      ],
      "execution_count": null,
      "outputs": []
    },
    {
      "cell_type": "code",
      "metadata": {
        "id": "Wuv-itJsIVfn"
      },
      "source": [
        "url_empresas_bolsa = \"https://www.infomoney.com.br/cotacoes/empresas-b3/\"\n",
        "hdr = {'User-Agent': 'Mozilla/5.0'}\n",
        "req = Request(url_empresas_bolsa, headers=hdr)\n",
        "response_empresas_bolsa = urlopen(req)\n",
        "html_empresas_bolsa = response_empresas_bolsa.read()"
      ],
      "execution_count": null,
      "outputs": []
    },
    {
      "cell_type": "code",
      "metadata": {
        "id": "NZPdEa9PJENm"
      },
      "source": [
        "html_empresas_bolsa"
      ],
      "execution_count": null,
      "outputs": []
    },
    {
      "cell_type": "code",
      "metadata": {
        "id": "vCqkb8zfJJ4E"
      },
      "source": [
        "# carregar BeautifulSoup\n",
        "soup = BeautifulSoup(html_empresas_bolsa, 'html.parser')"
      ],
      "execution_count": null,
      "outputs": []
    },
    {
      "cell_type": "code",
      "metadata": {
        "id": "z8jVyDQqJhEF"
      },
      "source": [
        "soup"
      ],
      "execution_count": null,
      "outputs": []
    },
    {
      "cell_type": "code",
      "metadata": {
        "id": "wGQRSESlJiGM"
      },
      "source": [
        "# Setores\n",
        "setores = soup.find('div', {'class': 'list-companies'}).find_parent('div').find_all('h2')"
      ],
      "execution_count": null,
      "outputs": []
    },
    {
      "cell_type": "code",
      "metadata": {
        "id": "S3FB0y5OKxGh"
      },
      "source": [
        "setores"
      ],
      "execution_count": null,
      "outputs": []
    },
    {
      "cell_type": "code",
      "metadata": {
        "id": "DJSMPmGjPOZ2"
      },
      "source": [
        "lista_setores = []"
      ],
      "execution_count": null,
      "outputs": []
    },
    {
      "cell_type": "code",
      "metadata": {
        "id": "UnTUaRLgKyFp"
      },
      "source": [
        "for setor in setores:\n",
        "  lista_setores.append(setor.get_text())"
      ],
      "execution_count": null,
      "outputs": []
    },
    {
      "cell_type": "code",
      "metadata": {
        "id": "vUw7qzxSPnpl"
      },
      "source": [
        "# Visualizar lista de setores\n",
        "lista_setores"
      ],
      "execution_count": null,
      "outputs": []
    },
    {
      "cell_type": "code",
      "metadata": {
        "id": "5xE2ywtUP4gp"
      },
      "source": [
        "# Empresas\n",
        "empresas = soup.find('div', {'class': 'list-companies'}).find_parent('div').find_all('td', {'class': 'higher'})"
      ],
      "execution_count": null,
      "outputs": []
    },
    {
      "cell_type": "code",
      "metadata": {
        "id": "sUhEu-kXQNDF"
      },
      "source": [
        "empresas"
      ],
      "execution_count": null,
      "outputs": []
    },
    {
      "cell_type": "code",
      "metadata": {
        "id": "97VzekojP6TE"
      },
      "source": [
        "# Salvar empresas em uma lista\n",
        "lista_empresa = []"
      ],
      "execution_count": null,
      "outputs": []
    },
    {
      "cell_type": "code",
      "metadata": {
        "id": "d27U0qE_QOJp"
      },
      "source": [
        "for empresa in empresas:\n",
        "  lista_empresa.append(empresa.get_text())"
      ],
      "execution_count": null,
      "outputs": []
    },
    {
      "cell_type": "code",
      "metadata": {
        "id": "4iB8MNGiQLW9",
        "colab": {
          "base_uri": "https://localhost:8080/"
        },
        "outputId": "94c9cb7d-faa4-4631-841e-8fe064849377"
      },
      "source": [
        "# Visualizar Lista de empresas\n",
        "# lista_empresa\n",
        "len(lista_empresa)"
      ],
      "execution_count": null,
      "outputs": [
        {
          "output_type": "execute_result",
          "data": {
            "text/plain": [
              "414"
            ]
          },
          "metadata": {
            "tags": []
          },
          "execution_count": 17
        }
      ]
    },
    {
      "cell_type": "code",
      "metadata": {
        "id": "U-jc9xtsSfRn"
      },
      "source": [
        "# Siglas\n",
        "siglas = soup.find('div', {'class': 'list-companies'}).find_parent('div').find_all('td', {'class': 'strong'})"
      ],
      "execution_count": null,
      "outputs": []
    },
    {
      "cell_type": "code",
      "metadata": {
        "id": "T7Jh1oHvS9BC"
      },
      "source": [
        "# # Salvar siglas em uma lista\n",
        "lista_siglas = []\n"
      ],
      "execution_count": null,
      "outputs": []
    },
    {
      "cell_type": "code",
      "metadata": {
        "id": "l_EMrwiuS-Pk"
      },
      "source": [
        "for sigla in siglas:\n",
        "  lista_siglas.append(sigla.find('a').get_text())\n",
        "  # print(sigla.find('a').get_text()"
      ],
      "execution_count": null,
      "outputs": []
    },
    {
      "cell_type": "code",
      "metadata": {
        "id": "AVAz-YgTWQn-",
        "colab": {
          "base_uri": "https://localhost:8080/"
        },
        "outputId": "d52ff85e-53cd-44b6-c2ac-51e4aca2748d"
      },
      "source": [
        "len(lista_siglas)"
      ],
      "execution_count": null,
      "outputs": [
        {
          "output_type": "execute_result",
          "data": {
            "text/plain": [
              "683"
            ]
          },
          "metadata": {
            "tags": []
          },
          "execution_count": 21
        }
      ]
    },
    {
      "cell_type": "code",
      "metadata": {
        "id": "OC0GVeEsWQWX"
      },
      "source": [
        "lista_empresa"
      ],
      "execution_count": null,
      "outputs": []
    },
    {
      "cell_type": "code",
      "metadata": {
        "id": "wdE3esHpYTx8"
      },
      "source": [
        "lista_siglas"
      ],
      "execution_count": null,
      "outputs": []
    },
    {
      "cell_type": "code",
      "metadata": {
        "id": "zf32jEfoYXj4"
      },
      "source": [
        "# unir as lista em uma unica lista\n",
        "empresa_siglas = zip(lista_empresa, lista_siglas)"
      ],
      "execution_count": null,
      "outputs": []
    },
    {
      "cell_type": "code",
      "metadata": {
        "id": "-js2nT2RaT_q"
      },
      "source": [
        "list(empresa_siglas)"
      ],
      "execution_count": null,
      "outputs": []
    },
    {
      "cell_type": "code",
      "metadata": {
        "id": "AIB943C4flR7"
      },
      "source": [
        "#Tentativa de pegar todos os dados\n",
        "setores = soup.find('div', {'class': 'list-companies'}).find_parent('div')"
      ],
      "execution_count": null,
      "outputs": []
    },
    {
      "cell_type": "markdown",
      "metadata": {
        "id": "oVjwt2nsT67T"
      },
      "source": [
        "# Separar empresas por Setores"
      ]
    },
    {
      "cell_type": "code",
      "metadata": {
        "id": "UmWXhgxCU7x7"
      },
      "source": [
        "# Carregar BeautifulSoup e urllib\n",
        "from bs4 import BeautifulSoup\n",
        "from urllib.request import Request, urlopen\n",
        "\n",
        "url_empresas_bolsa = \"https://www.infomoney.com.br/cotacoes/empresas-b3/\"\n",
        "hdr = {'User-Agent': 'Mozilla/5.0'}\n",
        "req = Request(url_empresas_bolsa, headers=hdr)\n",
        "response_empresas_bolsa = urlopen(req)\n",
        "html_empresas_bolsa = response_empresas_bolsa.read()\n",
        "\n",
        "# carregar BeautifulSoup\n",
        "soup = BeautifulSoup(html_empresas_bolsa, 'html.parser')\n",
        "\n"
      ],
      "execution_count": 1,
      "outputs": []
    },
    {
      "cell_type": "code",
      "metadata": {
        "id": "0tA-Mk8Jkbl7"
      },
      "source": [
        "dados_empresa = {'Bens_Industriais':[],'Consumo_Ciclico':[], 'Consumo_nao_Cíclico':[], 'Financeiro':[],'Materiais_Basicos':[], 'Outros':[], 'Petroleo_Gas_Biocombustiveis':[], 'Saude':[], 'Tecnologia_da_Informacao':[], 'Telecomunicacoes':[], 'Utilidade_Publica':[]}\n",
        "# print(dados_empresa)"
      ],
      "execution_count": 2,
      "outputs": []
    },
    {
      "cell_type": "code",
      "metadata": {
        "id": "cejSOECfl-dz"
      },
      "source": [
        "for resultado in soup.find_all('div', {'class': 'list-companies'}):\n",
        "  for r1 in resultado.find('div', {'class':'header-sector'}).find('h2'):\n",
        "    setor = r1\n",
        "    for r2 in resultado.find('div', {'class':'list'}).find_all('td', {'class':'strong'}):\n",
        "      for result in r2.find('a'):\n",
        "        if r1 == 'Bens Industriais':\n",
        "          dados_empresa['Bens_Industriais'].append(result)\n",
        "        elif r1 == 'Consumo Cíclico':\n",
        "          dados_empresa['Consumo_Ciclico'].append(result)\n",
        "        elif r1 == 'Consumo não Cíclico':\n",
        "          dados_empresa['Consumo_nao_Cíclico'].append(result)\n",
        "        elif r1 == 'Financeiro':\n",
        "          dados_empresa['Financeiro'].append(result)\n",
        "        elif r1 == 'Materiais Básicos':\n",
        "          dados_empresa['Materiais_Basicos'].append(result)\n",
        "        elif r1 == 'Outros':\n",
        "          dados_empresa['Outros'].append(result)\n",
        "        elif r1 == 'Petróleo, Gás e Biocombustíveis':\n",
        "          dados_empresa['Petroleo_Gas_Biocombustiveis'].append(result)\n",
        "        elif r1 == 'Saúde':\n",
        "          dados_empresa['Saude'].append(result)\n",
        "        elif r1 == 'Tecnologia da Informação':\n",
        "          dados_empresa['Tecnologia_da_Informacao'].append(result)\n",
        "        elif r1 == 'Telecomunicações':\n",
        "          dados_empresa['Telecomunicacoes'].append(result)\n",
        "        elif r1 == 'Utilidade Pública':\n",
        "          dados_empresa['Utilidade_Publica'].append(result)\n",
        "      \n"
      ],
      "execution_count": 3,
      "outputs": []
    },
    {
      "cell_type": "code",
      "metadata": {
        "id": "dXWH90_W45rP",
        "colab": {
          "base_uri": "https://localhost:8080/"
        },
        "outputId": "04f87563-1110-475d-eaa1-30110ca459f7"
      },
      "source": [
        "print(dados_empresa)"
      ],
      "execution_count": 4,
      "outputs": [
        {
          "output_type": "stream",
          "text": [
            "{'Bens_Industriais': ['ATMP3', 'ASAI3', 'JSLG3', 'CMIN3', 'ELMD3', 'ORVR3', 'OPCT3', 'WEST3', 'CSED3', 'BMOB3', 'JALL3', 'POWE3', 'MOSI3', 'MBLY3', 'ESPA3', 'VAMO3', 'INTB3', 'CJCT11', 'BMLC11', 'RECR11', 'URPR11', 'DEVA11', 'MFAI11', 'NGRD3', 'BRK.B', 'BAX', 'BKR', 'T', 'MO', 'AIG', 'ACN', 'ABT', 'ABTT34F', 'MMM', 'PEP', 'AVLL3', 'RRRP3', 'AERI3', 'ENJU3', 'CASH3', 'TFCO4', 'CONX3', 'GMAT3', 'SEQL3', 'PASS3', 'BOAS3', 'MELK3', 'HBSA3', 'SIMH3F', 'CURY3', 'PLPL3', 'PETZ3', 'PGMN3', 'LAVV3', 'LJQQ3', 'DMVF3', 'SOMA3', 'RIVA3', 'AMBP3', 'ALPK3', 'MTRE3', 'MDNE3', 'BDLL4F ', 'BDLL3F ', 'UPSS34F ', 'LMTB34F', 'JNJB34F', 'FDXB34F', 'EXXO34F ', 'CATP34F', 'BMYB34F', 'BOEI34F', 'ARMT34F', 'AXPB34F', 'STBP3F', 'RAPT3F', 'EGIE3F', 'MMXM11F', 'MMXM3F', 'LUPA3F', 'INEP4F', 'INEP3F', 'GEPA4F', 'GEPA3F', 'FRAS3F', 'AFLT3F', 'SHUL4F', 'NEMO5F', 'TASA4F', 'TASA3F', 'TCSA3F', 'UNIP3F', 'WHRL4F ', 'WHRL3F', 'OFSA3F', 'GOLL11', 'GOL4F', 'ETER3F', 'VLID3F', 'TPIS3F'], 'Consumo_Ciclico': ['CEDO4F ', 'CEDO3F ', 'NFLX34F ', 'NFLX34', 'NIKE34F', 'NIKE34', 'MCDC34F', 'MCDC34', 'HOME34F ', 'HOME34', 'FDMO34F', 'FDMO34', 'CMCS34F', 'AMZO34F', 'RDNI3F', 'RDNI3', 'SLED4F', 'SLED3F', 'SLED3', 'RSID3F', 'RSID3', 'MNDL3F', 'MNDL3', 'LEVE3F', 'LEVE3', 'CTKA4F', 'CTKA3F', 'CTKA4', 'CTKA3', 'MYPK3F', 'MYPK3', 'GRND3F', 'GRND3', 'LCAM3F', 'LCAM3', 'CEAB3', 'LLIS3F', 'LLIS3', 'CGRA3F', 'CGRA4F', 'CGRA4', 'CGRA3', 'ESTR4F', 'ESTR3F', 'ESTR4', 'ESTR3', 'DIRR3F', 'DIRR3', 'CTNM3F', 'CTNM4F', 'CTNM4', 'CTNM3', 'ANIM3F', 'EVEN3F', 'EVEN3', 'AMAR3F', 'AMAR3', 'MOVI3F', 'MOVI3', 'JHSF3F', 'JHSF3', 'HBOR3F', 'HBOR3', 'PDGR3F', 'PDGR3', 'ARZZ3F', 'EZTC3F', 'EZTC3', 'HGTX3F', 'ALPA3F', 'ALPA4F', 'SMLS3F', 'SMLS3', 'RENT3F', 'RENT3', 'MRVE3F', 'MRVE3', 'MGLU3F', 'MGLU3', 'LREN3F', 'LREN3', 'COGN3F', 'COGN3', 'WHRL4', 'WHRL3', 'VVAR3', 'TCSA3', 'SBUB34', 'SEER3', 'SLED4', 'LAME4F', 'LAME4', 'LAME3F', 'LAME3', 'HOOT4', 'GFSA3', 'GFSA3F', 'YDUQ3', 'CYRE3', 'CVCB3'], 'Consumo_nao_Cíclico': ['WALM34F ', 'WALM34', 'SBUB34F ', 'PGCO34F', 'PEPB34F ', 'PEPB34', 'COLG34F', 'COLG34', 'COCA34F', 'COCA34', 'AVON34F', 'AVON34', 'SMTO3F', 'SMTO3', 'MDIA3F', 'MDIA3', 'CAML3F', 'CAML3', 'AGRO3F', 'AGRO3', 'BSEV3F', 'BSEV3', 'BEEF3F', 'BEEF3', 'BEEF11', 'VIVA3', 'CRFB3F', 'CRFB3', 'PCAR3F', 'PCAR4F', 'PCAR3', 'NTCO3F', 'NTCO3', 'MRFG3F', 'MRFG3', 'JBSS3F', 'JBSS3', 'PGCO34', 'BRFS3'], 'Financeiro': ['BK', 'BAC', 'BSLI4F', 'BSLI3F ', 'BSLI4', 'BSLI3', 'BTTL3F', 'BTTL3', 'BPAR3F ', 'BPAR3', 'WFCO34F ', 'WFCO34', 'VISA34F ', 'VISA34', 'MSBR34F ', 'MSBR34', 'MSCD34F', 'MSCD34', 'JPMC34F ', 'JPMC34', 'HONB34F', 'HONB34', 'GEOO34F ', 'GEOO34', 'GSGI34F ', 'GSGI34', 'CTGP34F', 'CTGP34', 'BOAC34F', 'BOAC34', 'MMMC34F ', 'MMMC34', 'SCAR3F', 'SCAR3', 'LPSB3F', 'LPSB3', 'BMGB11', 'BMGB4', 'IGBR3F', 'IGBR3', 'GSHP3F', 'GSHP3', 'PSSA3F', 'PSSA3', 'CARD3F', 'CARD3', 'BBRK3F', 'BBRK3', 'BRPR3F', 'BRPR3', 'BRSR6F', 'BRSR5F', 'BRSR3F', 'BRSR6', 'BRSR5', 'BRSR3', 'BIDI3', 'BIDI11', 'BIDI4', 'SANB4F', 'SANB3F', 'SANB11F', 'SANB4', 'SANB3', 'SANB11', 'MULT3F', 'MULT3', 'ITUB3F', 'ITUB4', 'ITUB3', 'ITUB4F', 'ALSO3', 'BMIN3', 'MERC4', 'LOGG3', 'ITSA4F', 'ITSA4', 'ITSA3F', 'IRBR3', 'IGTA3', 'BBDC4F', 'BBDC4', 'BBDC3', 'BRML3', 'APER3F', 'APER3', 'BBSE3', 'BPAN4', 'BBAS3F', 'BBAS3', 'BBAS12', 'BBAS11', 'AXPB34'], 'Materiais_Basicos': ['RANI3F ', 'RANI4F ', 'FCXO34F', 'FCXO34', 'PMAM3F', 'PMAM3', 'FESA4F', 'FESA3F', 'FESA4', 'FESA3', 'EUCA4F', 'EUCA3F', 'EUCA4', 'EUCA3', 'SUZB3F', 'SUZB3', 'KLBN4F', 'KLBN3F', 'KLBN11F', 'KLBN4', 'KLBN3', 'KLBN11', 'VALE5', 'UNIP6F', 'UNIP6', 'UNIP5F', 'UNIP5', 'UNIP3', 'NEMO6', 'NEMO5', 'NEMO3', 'MMXM3', 'MMXM11', 'GOAU4', 'CSNA3F', 'CSNA3', 'RANI4', 'BRKM6', 'BRKM5F', 'BRKM5', 'BRKM3', 'BRAP4F', 'BRAP4', 'BRAP3F', 'BRAP3', 'ARMT34'], 'Outros': ['B5MB11', 'AIRB34', 'PAGS34', 'HBRE3', 'HBRE3F', 'ADP', 'OLP', 'AKBA', 'DLTH', 'EIGI', 'KBLM', 'MRAM', 'DESP', 'BLCM', 'CULP', 'LEVI', 'HII', 'ASMB', 'CABA', 'TRMB', 'RBBN', 'FDBC', 'PTRS', 'HUD', 'OSK', 'OPBK', 'EQ', 'SEAC', 'RAND', 'EMN', 'KRMD', 'GXGX', 'MHK', 'APOG', 'HEC', 'XENE', 'GOOGL', 'LYV', 'BDTX', 'WMS', 'VRTU', 'KBR', 'WHG', 'HIG', 'STIM', 'MX', 'STFC', 'VAPO', 'MTR', 'C', 'SCX', 'EKSO', 'ASRV', 'GLAD', 'HMHC', 'HQY', 'LMND', 'CHKP', 'VCTR', 'VEEV', 'STZ.B', 'CPSS', 'NHTC', 'CRL', 'SEIC', 'DMYT', 'ALTA', 'BA', 'BBSI', 'BOOT', 'MKL', 'ARCH', 'EVK', 'ITRM', 'GCP', 'KRNY', 'FLUX', 'OVBC', 'IDXG', 'SAIA', 'OGI', 'OPK', 'WPG', 'TESS', 'BE', 'FTI', 'ATNX', 'OMEX', 'ADCT', 'ABIO', 'SHLL', 'CLBK', 'KRTX', 'KTB', 'CFRX', 'DFIN', 'XELA', 'NBAC', 'SNSS', 'BXMT'], 'Petroleo_Gas_Biocombustiveis': ['SLBG34F ', 'SLBG34', 'HALI34F', 'HALI34', 'COPH34', 'COPH34', 'CHVX34F', 'CHVX34', 'PRIO3F', 'PRIO3', 'OSXB3F', 'OSXB3', 'DMMO11', 'DMMO3F', 'DMMO3', 'RPMG3F', 'RPMG3', 'UGPA3', 'UGPA3F', 'PETR4F', 'PETR4', 'PETR3F', 'PETR3', 'BRDT3', 'EXXO34', 'ENAT3'], 'Saude': ['PARD3', 'BIOM3F ', 'BIOM3', 'BALM3F ', 'BALM4F', 'BALM4', 'BALM3', 'PFIZ34F ', 'PFIZ34', 'MRCK34F ', 'MRCK34', 'GBIO33F', 'GBIO33', 'PNVL4F', 'PNVL3F', 'PNVL4', 'PNVL3', 'AALR3F', 'AALR3', 'ODPV3F', 'ODPV3', 'RADL3F', 'RADL3', 'QUAL3F', 'QUAL3', 'OFSA3', 'JNJB34', 'HYPE3', 'FLRY3', 'BMYB34', 'ABTT34'], 'Tecnologia_da_Informacao': ['ADBE', 'CMCSA', 'CSCO', 'INTC', 'FB', 'AMZN', 'AAPL', 'MSFT', 'GOGL35', 'LWSA3', 'TOTS3F ', 'TOTS3', 'XRXB34F ', 'XRXB34', 'QCOM34F', 'QCOM34', 'ORCL34F ', 'ORCL34', 'MSFT34F ', 'MSFT34', 'IBMB34F ', 'IBMB34', 'ITLC34F ', 'ITLC34', 'HPQB34F ', 'HPQB34', 'EBAY34F ', 'CSCO34F', 'CSCO34', 'ATTB34F ', 'AAPL34F', 'AAPL34', 'LINX3F', 'LINX3', 'POSI3F', 'POSI3', 'EBAY34'], 'Telecomunicacoes': ['VERZ34F', 'VERZ34', 'OIBR4F', 'OIBR4', 'OIBR', 'TIMS3F', 'TIMS3', 'VIVT4F', 'VIVT4', 'VIVT3F', 'VIVT3', 'TELB4F', 'TELB4', 'TELB3F', 'TELB3', 'ATTB34'], 'Utilidade_Publica': ['CEPE6F', 'CEPE5F ', 'CEPE3F ', 'CEPE6', 'CEPE5', 'CEPE3', 'CEED3F ', 'CEED4F', 'CEED4', 'CEED3', 'EEEL4F ', 'EEEL3F ', 'EEEL4', 'EEEL3', 'CASN4F ', 'CASN3F ', 'CASN4', 'CASN3', 'CEGR3F', 'CEGR3', 'CEBR3F ', 'CEBR6F ', 'CEBR5F ', 'CEBR6', 'CEBR5', 'CEBR3', 'RNEW11F', 'RNEW11F', 'RNEW4F', 'RNEW4', 'RNEW3', 'COCE6F', 'COCE5F', 'COCE3F', 'COCE6', 'COCE5', 'COCE3', 'CLSC4F', 'CLSC3F', 'CLSC4', 'CLSC3', 'ALUP4F', 'ALUP3F', 'ALUP11F', 'ALUP4', 'ALUP3', 'ALUP11', 'SAPR11F', 'SAPR4F', 'SAPR3F', 'SAPR4', 'SAPR3', 'SAPR11', 'CPRE3F', 'CPRE3', 'CPLE5F', 'CPLE6F', 'CPLE6', 'CPLE5', 'CPLE3F', 'CPLE3', 'CPFE3F', 'CPFE3', 'CGAS3F', 'CGAS5F', 'CGAS5', 'CGAS3', 'TIET11F', 'TIET3F', 'TIET4F', 'TIET4', 'TIET3', 'TIET11', 'NEOE3', 'TRPL4F', 'TRPL4', 'TRPL3F', 'TRPL3', 'EGIE3', 'TAEE4', 'TAEE3', 'TAEE11', 'SBSP3F', 'SBSP3', 'RNEW11', 'GEPA4', 'GEPA3', 'CESP6', 'CESP5', 'CESP3F', 'CESP3', 'CMIG4', 'CMIG3F', 'CMIG3', 'AFLT3']}\n"
          ],
          "name": "stdout"
        }
      ]
    },
    {
      "cell_type": "markdown",
      "metadata": {
        "id": "15DhFW0AbTLU"
      },
      "source": [
        "# Carregar todos os Dados da empresa"
      ]
    },
    {
      "cell_type": "code",
      "metadata": {
        "id": "mbrPka1RdIjm"
      },
      "source": [
        "#Carregar BeautifulSoup\n",
        "from bs4 import BeautifulSoup\n",
        "from urllib.request import Request, urlopen"
      ],
      "execution_count": null,
      "outputs": []
    },
    {
      "cell_type": "code",
      "metadata": {
        "id": "Or-BCm7KcJwp"
      },
      "source": [
        "#Criar Lista para armazenar Dados\n",
        "resultado_lista = []"
      ],
      "execution_count": 78,
      "outputs": []
    },
    {
      "cell_type": "code",
      "metadata": {
        "id": "rNsqCsMeX70o"
      },
      "source": [
        "# Atenção Executar Separar empresas por Setores antes de Executar código a seguir\n",
        "for setores in dados_empresa.keys():\n",
        "  for papel in dados_empresa[setores]:\n",
        "    url_fundamentos = \"https://fundamentus.com.br/detalhes.php?papel=\"+papel\n",
        "    hdr = {'User-Agent': 'Mozilla/5.0'}\n",
        "    req = Request(url_fundamentos, headers=hdr)\n",
        "    response_fundamentos = urlopen(req)\n",
        "    html_fundamentos = response_fundamentos.read()\n",
        "\n",
        "    soup = BeautifulSoup(html_fundamentos, 'html.parser')\n",
        "    resultado_dic = {}\n",
        "\n",
        "    try:\n",
        "      resultado_dic['empresa'] = soup.table.find_all('td')[9].get_text()\n",
        "      resultado_dic['papel'] = papel\n",
        "      resultado_dic['setor'] = soup.table.find_all('td', {'class', 'data'})[6].get_text()\n",
        "      resultado_dic['subsetor'] = soup.table.find_all('td', {'class', 'data'})[8].get_text()\n",
        "      resultado_dic['cotacao'] = float(soup.table.find('td', {'class':'data destaque w3'}).find('span').get_text().replace(',','.'))\n",
        "      resultado_dic['data_atualizacao'] = soup.table.find_all('td', {'class', 'data'})[3].get_text()\n",
        "      resultado_dic['pl'] = float(soup.table.find_next_sibling().find_next_sibling().find_all('td', {'class', 'data w2'})[0].get_text().replace('%','').replace('.','').replace(',','.'))\n",
        "      resultado_dic['lpa'] = float(soup.table.find_next_sibling().find_next_sibling().find_all('td', {'class', 'data w2'})[1].get_text().replace(',','.'))\n",
        "      resultado_dic['pvp'] = float(soup.table.find_next_sibling().find_next_sibling().find_all('td', {'class', 'data w2'})[2].get_text().replace(',','.'))\n",
        "      resultado_dic['vpa'] = float(soup.table.find_next_sibling().find_next_sibling().find_all('td', {'class', 'data w2'})[3].get_text().replace('.','').replace(',','.'))\n",
        "      resultado_dic['ebita'] = float(soup.table.find_next_sibling().find_next_sibling().find_all('td', {'class', 'data w2'})[4].get_text().replace('\\n', '').replace('-','0').replace('.','').replace(',','.'))\n",
        "      resultado_dic['margin bruta'] = soup.table.find_next_sibling().find_next_sibling().find_all('td', {'class', 'data'})[8].get_text().replace('\\n', '').replace(',','.')\n",
        "      resultado_dic['dy'] = soup.table.find_next_sibling().find_next_sibling().find_all('td', {'class', 'data'})[22].get_text().replace(',','.')\n",
        "\n",
        "      resultado_lista.append(resultado_dic)\n",
        "\n",
        "    except AttributeError:\n",
        "      # print('papel não encontrado: ', papel)\n",
        "      pass\n",
        "    except IndexError:\n",
        "      pass\n",
        "      \n",
        "\n"
      ],
      "execution_count": null,
      "outputs": []
    },
    {
      "cell_type": "code",
      "metadata": {
        "id": "Ia8aNuumskZB"
      },
      "source": [
        "lista_ativos = ['ASAI3', 'JSLG3', 'ORVR3', 'NTCO3F', 'ELMD3']"
      ],
      "execution_count": null,
      "outputs": []
    },
    {
      "cell_type": "code",
      "metadata": {
        "id": "8LmNXL2n65SS"
      },
      "source": [
        "resultado_lista"
      ],
      "execution_count": null,
      "outputs": []
    },
    {
      "cell_type": "markdown",
      "metadata": {
        "id": "oReo8p_Z3pMf"
      },
      "source": [
        "# Trabalhar com Pandas"
      ]
    },
    {
      "cell_type": "code",
      "metadata": {
        "id": "6_GWrSsZ3zpC"
      },
      "source": [
        "import pandas as pd"
      ],
      "execution_count": 75,
      "outputs": []
    },
    {
      "cell_type": "code",
      "metadata": {
        "id": "LPCLVzjC4Gj9"
      },
      "source": [
        "resultado_df = pd.DataFrame(resultado_lista)"
      ],
      "execution_count": 80,
      "outputs": []
    },
    {
      "cell_type": "code",
      "metadata": {
        "id": "3M9vEWMq4Zmn",
        "outputId": "c3e9c59e-7003-4848-89c6-2ad634911108",
        "colab": {
          "base_uri": "https://localhost:8080/",
          "height": 419
        }
      },
      "source": [
        "resultado_df"
      ],
      "execution_count": 81,
      "outputs": [
        {
          "output_type": "execute_result",
          "data": {
            "text/html": [
              "<div>\n",
              "<style scoped>\n",
              "    .dataframe tbody tr th:only-of-type {\n",
              "        vertical-align: middle;\n",
              "    }\n",
              "\n",
              "    .dataframe tbody tr th {\n",
              "        vertical-align: top;\n",
              "    }\n",
              "\n",
              "    .dataframe thead th {\n",
              "        text-align: right;\n",
              "    }\n",
              "</style>\n",
              "<table border=\"1\" class=\"dataframe\">\n",
              "  <thead>\n",
              "    <tr style=\"text-align: right;\">\n",
              "      <th></th>\n",
              "      <th>empresa</th>\n",
              "      <th>papel</th>\n",
              "      <th>setor</th>\n",
              "      <th>subsetor</th>\n",
              "      <th>cotacao</th>\n",
              "      <th>data_atualizacao</th>\n",
              "      <th>pl</th>\n",
              "      <th>lpa</th>\n",
              "      <th>pvp</th>\n",
              "      <th>vpa</th>\n",
              "      <th>ebita</th>\n",
              "      <th>margin bruta</th>\n",
              "      <th>dy</th>\n",
              "    </tr>\n",
              "  </thead>\n",
              "  <tbody>\n",
              "    <tr>\n",
              "      <th>0</th>\n",
              "      <td>ATMASA ON</td>\n",
              "      <td>ATMP3</td>\n",
              "      <td>Serviços Diversos</td>\n",
              "      <td>Serviços Diversos</td>\n",
              "      <td>5.53</td>\n",
              "      <td>12/03/2021</td>\n",
              "      <td>-0.64</td>\n",
              "      <td>-8.70</td>\n",
              "      <td>0.82</td>\n",
              "      <td>6.78</td>\n",
              "      <td>1.52</td>\n",
              "      <td>1.8%</td>\n",
              "      <td>0.0%</td>\n",
              "    </tr>\n",
              "    <tr>\n",
              "      <th>1</th>\n",
              "      <td>ASSAI ON NM</td>\n",
              "      <td>ASAI3</td>\n",
              "      <td>Comércio e Distribuição</td>\n",
              "      <td>Alimentos</td>\n",
              "      <td>72.78</td>\n",
              "      <td>12/03/2021</td>\n",
              "      <td>13.97</td>\n",
              "      <td>5.21</td>\n",
              "      <td>13.85</td>\n",
              "      <td>5.25</td>\n",
              "      <td>7.32</td>\n",
              "      <td>16.4%</td>\n",
              "      <td>0.0%</td>\n",
              "    </tr>\n",
              "    <tr>\n",
              "      <th>2</th>\n",
              "      <td>JULIO SIMOES ON NM</td>\n",
              "      <td>JSLG3</td>\n",
              "      <td>Transporte</td>\n",
              "      <td>Transporte Rodoviário</td>\n",
              "      <td>9.11</td>\n",
              "      <td>12/03/2021</td>\n",
              "      <td>14.12</td>\n",
              "      <td>0.64</td>\n",
              "      <td>2.40</td>\n",
              "      <td>3.80</td>\n",
              "      <td>17.63</td>\n",
              "      <td>10.7%</td>\n",
              "      <td>1.1%</td>\n",
              "    </tr>\n",
              "    <tr>\n",
              "      <th>3</th>\n",
              "      <td>CSNMINERACAO ON N2</td>\n",
              "      <td>CMIN3</td>\n",
              "      <td>Mineração</td>\n",
              "      <td>Minerais Metálicos</td>\n",
              "      <td>8.49</td>\n",
              "      <td>12/03/2021</td>\n",
              "      <td>11.78</td>\n",
              "      <td>0.72</td>\n",
              "      <td>4.48</td>\n",
              "      <td>1.90</td>\n",
              "      <td>6.85</td>\n",
              "      <td>60.3%</td>\n",
              "      <td>0.0%</td>\n",
              "    </tr>\n",
              "    <tr>\n",
              "      <th>4</th>\n",
              "      <td>ELETROMIDIA ON NM</td>\n",
              "      <td>ELMD3</td>\n",
              "      <td>Mídia</td>\n",
              "      <td>Publicidade e Propaganda</td>\n",
              "      <td>15.00</td>\n",
              "      <td>12/03/2021</td>\n",
              "      <td>0.00</td>\n",
              "      <td>0.00</td>\n",
              "      <td>16.37</td>\n",
              "      <td>0.92</td>\n",
              "      <td>0.00</td>\n",
              "      <td>-</td>\n",
              "      <td>0.0%</td>\n",
              "    </tr>\n",
              "    <tr>\n",
              "      <th>...</th>\n",
              "      <td>...</td>\n",
              "      <td>...</td>\n",
              "      <td>...</td>\n",
              "      <td>...</td>\n",
              "      <td>...</td>\n",
              "      <td>...</td>\n",
              "      <td>...</td>\n",
              "      <td>...</td>\n",
              "      <td>...</td>\n",
              "      <td>...</td>\n",
              "      <td>...</td>\n",
              "      <td>...</td>\n",
              "      <td>...</td>\n",
              "    </tr>\n",
              "    <tr>\n",
              "      <th>247</th>\n",
              "      <td>CESP CIA ENERGETICA SAO PAULO PNA</td>\n",
              "      <td>CESP5</td>\n",
              "      <td>Energia Elétrica</td>\n",
              "      <td>Energia Elétrica</td>\n",
              "      <td>42.99</td>\n",
              "      <td>12/03/2021</td>\n",
              "      <td>8.14</td>\n",
              "      <td>5.28</td>\n",
              "      <td>1.95</td>\n",
              "      <td>22.00</td>\n",
              "      <td>22.85</td>\n",
              "      <td>38.0%</td>\n",
              "      <td>8.5%</td>\n",
              "    </tr>\n",
              "    <tr>\n",
              "      <th>248</th>\n",
              "      <td>CESP CIA ENERGETICA SAO PAULO ON</td>\n",
              "      <td>CESP3</td>\n",
              "      <td>Energia Elétrica</td>\n",
              "      <td>Energia Elétrica</td>\n",
              "      <td>30.57</td>\n",
              "      <td>12/03/2021</td>\n",
              "      <td>5.79</td>\n",
              "      <td>5.28</td>\n",
              "      <td>1.39</td>\n",
              "      <td>22.00</td>\n",
              "      <td>16.25</td>\n",
              "      <td>38.0%</td>\n",
              "      <td>7.4%</td>\n",
              "    </tr>\n",
              "    <tr>\n",
              "      <th>249</th>\n",
              "      <td>CEMIG PN N1</td>\n",
              "      <td>CMIG4</td>\n",
              "      <td>Energia Elétrica</td>\n",
              "      <td>Energia Elétrica</td>\n",
              "      <td>12.09</td>\n",
              "      <td>12/03/2021</td>\n",
              "      <td>9.05</td>\n",
              "      <td>1.34</td>\n",
              "      <td>1.06</td>\n",
              "      <td>11.39</td>\n",
              "      <td>3.64</td>\n",
              "      <td>23.1%</td>\n",
              "      <td>5.0%</td>\n",
              "    </tr>\n",
              "    <tr>\n",
              "      <th>250</th>\n",
              "      <td>CEMIG ON N1</td>\n",
              "      <td>CMIG3</td>\n",
              "      <td>Energia Elétrica</td>\n",
              "      <td>Energia Elétrica</td>\n",
              "      <td>14.40</td>\n",
              "      <td>12/03/2021</td>\n",
              "      <td>10.78</td>\n",
              "      <td>1.34</td>\n",
              "      <td>1.26</td>\n",
              "      <td>11.39</td>\n",
              "      <td>4.33</td>\n",
              "      <td>23.1%</td>\n",
              "      <td>4.2%</td>\n",
              "    </tr>\n",
              "    <tr>\n",
              "      <th>251</th>\n",
              "      <td>AFLUENTE T ON</td>\n",
              "      <td>AFLT3</td>\n",
              "      <td>Energia Elétrica</td>\n",
              "      <td>Energia Elétrica</td>\n",
              "      <td>8.96</td>\n",
              "      <td>12/03/2021</td>\n",
              "      <td>30.21</td>\n",
              "      <td>0.30</td>\n",
              "      <td>3.02</td>\n",
              "      <td>2.97</td>\n",
              "      <td>29.48</td>\n",
              "      <td>64.8%</td>\n",
              "      <td>8.1%</td>\n",
              "    </tr>\n",
              "  </tbody>\n",
              "</table>\n",
              "<p>252 rows × 13 columns</p>\n",
              "</div>"
            ],
            "text/plain": [
              "                               empresa  papel  ... margin bruta    dy\n",
              "0                            ATMASA ON  ATMP3  ...         1.8%  0.0%\n",
              "1                          ASSAI ON NM  ASAI3  ...        16.4%  0.0%\n",
              "2                   JULIO SIMOES ON NM  JSLG3  ...        10.7%  1.1%\n",
              "3                   CSNMINERACAO ON N2  CMIN3  ...        60.3%  0.0%\n",
              "4                    ELETROMIDIA ON NM  ELMD3  ...            -  0.0%\n",
              "..                                 ...    ...  ...          ...   ...\n",
              "247  CESP CIA ENERGETICA SAO PAULO PNA  CESP5  ...        38.0%  8.5%\n",
              "248   CESP CIA ENERGETICA SAO PAULO ON  CESP3  ...        38.0%  7.4%\n",
              "249                        CEMIG PN N1  CMIG4  ...        23.1%  5.0%\n",
              "250                        CEMIG ON N1  CMIG3  ...        23.1%  4.2%\n",
              "251                      AFLUENTE T ON  AFLT3  ...        64.8%  8.1%\n",
              "\n",
              "[252 rows x 13 columns]"
            ]
          },
          "metadata": {
            "tags": []
          },
          "execution_count": 81
        }
      ]
    }
  ]
}